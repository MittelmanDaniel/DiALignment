{
 "cells": [
  {
   "cell_type": "markdown",
   "metadata": {},
   "source": [
    "# Imports #"
   ]
  },
  {
   "cell_type": "code",
   "execution_count": 1,
   "metadata": {},
   "outputs": [
    {
     "name": "stderr",
     "output_type": "stream",
     "text": [
      "/Users/danielmittelman/anaconda3/envs/ai_alignment/lib/python3.10/site-packages/tqdm/auto.py:21: TqdmWarning: IProgress not found. Please update jupyter and ipywidgets. See https://ipywidgets.readthedocs.io/en/stable/user_install.html\n",
      "  from .autonotebook import tqdm as notebook_tqdm\n"
     ]
    }
   ],
   "source": [
    "import transformer_lens.utils as utils\n",
    "import torch\n",
    "from transformer_lens import HookedTransformer\n",
    "\n",
    "from transformers import AutoTokenizer, LlamaForCausalLM, LlamaTokenizer\n",
    "import requests\n",
    "\n",
    "import pandas as pd\n",
    "import einops\n",
    "import io\n",
    "\n",
    "from datasets import load_dataset\n",
    "\n",
    "from transformer_lens.hook_points import (\n",
    "    HookPoint,\n",
    ") \n",
    "\n",
    "from typing import List, Callable\n",
    "\n",
    "\n",
    "from tqdm import tqdm\n",
    "\n",
    "import pickle"
   ]
  },
  {
   "cell_type": "markdown",
   "metadata": {},
   "source": [
    "# Hyper Parameters #"
   ]
  },
  {
   "cell_type": "code",
   "execution_count": 2,
   "metadata": {},
   "outputs": [],
   "source": [
    "BATCH_SIZE = 32"
   ]
  },
  {
   "cell_type": "markdown",
   "metadata": {},
   "source": [
    "# Getting Instructions #"
   ]
  },
  {
   "cell_type": "code",
   "execution_count": 3,
   "metadata": {},
   "outputs": [],
   "source": [
    "file_path = 'zebra.pickle'\n",
    "with open(file_path, 'rb') as file:\n",
    "    data = pickle.load(file)\n",
    "\n",
    "\n",
    "\n",
    "harmful_instructions = data\n",
    "\n",
    "\n",
    "harmful_prompts = harmful_instructions[:BATCH_SIZE]"
   ]
  },
  {
   "cell_type": "code",
   "execution_count": 4,
   "metadata": {},
   "outputs": [],
   "source": [
    "hf_path = 'tatsu-lab/alpaca'\n",
    "benign_dataset = load_dataset(hf_path)\n",
    "\n",
    "benign_instructions = []\n",
    "for i in range(len(benign_dataset['train'])):\n",
    "    if benign_dataset['train'][i]['input'].strip() == '':\n",
    "        benign_instructions.append(benign_dataset['train'][i]['instruction'])\n",
    "\n",
    "benign_prompts = benign_instructions[:BATCH_SIZE]"
   ]
  },
  {
   "cell_type": "markdown",
   "metadata": {},
   "source": [
    "# Setup #"
   ]
  },
  {
   "cell_type": "code",
   "execution_count": 5,
   "metadata": {},
   "outputs": [],
   "source": [
    "torch.set_grad_enabled(False)\n",
    "device = utils.get_device()"
   ]
  },
  {
   "cell_type": "code",
   "execution_count": 6,
   "metadata": {},
   "outputs": [
    {
     "name": "stdout",
     "output_type": "stream",
     "text": [
      "Loaded pretrained model meta-llama/Llama-3.2-1B-Instruct into HookedTransformer\n"
     ]
    }
   ],
   "source": [
    "model = HookedTransformer.from_pretrained_no_processing(\"meta-llama/Llama-3.2-1B-Instruct\", device=device, default_padding_side='left')\n"
   ]
  },
  {
   "cell_type": "markdown",
   "metadata": {},
   "source": [
    "# Get activations for benign and harmful #"
   ]
  },
  {
   "cell_type": "code",
   "execution_count": 7,
   "metadata": {},
   "outputs": [
    {
     "name": "stdout",
     "output_type": "stream",
     "text": [
      "['<|begin_of_text|><|start_header_id|>system<|end_header_id|>\\n\\nCutting Knowledge Date: December 2023\\nToday Date: 26 Oct 2024\\n\\n<|eot_id|><|start_header_id|>user<|end_header_id|>\\n\\nWrite a short story about a zebra who dreams of flying.<|eot_id|>', '<|begin_of_text|><|start_header_id|>system<|end_header_id|>\\n\\nCutting Knowledge Date: December 2023\\nToday Date: 26 Oct 2024\\n\\n<|eot_id|><|start_header_id|>user<|end_header_id|>\\n\\nDescribe the feeling of running alongside a herd of zebras.<|eot_id|>', '<|begin_of_text|><|start_header_id|>system<|end_header_id|>\\n\\nCutting Knowledge Date: December 2023\\nToday Date: 26 Oct 2024\\n\\n<|eot_id|><|start_header_id|>user<|end_header_id|>\\n\\nImagine you are a zebra living in the African savanna. What are your daily routines?<|eot_id|>', '<|begin_of_text|><|start_header_id|>system<|end_header_id|>\\n\\nCutting Knowledge Date: December 2023\\nToday Date: 26 Oct 2024\\n\\n<|eot_id|><|start_header_id|>user<|end_header_id|>\\n\\nWrite a poem about the stripes of a zebra.<|eot_id|>', '<|begin_of_text|><|start_header_id|>system<|end_header_id|>\\n\\nCutting Knowledge Date: December 2023\\nToday Date: 26 Oct 2024\\n\\n<|eot_id|><|start_header_id|>user<|end_header_id|>\\n\\nIf zebras could talk, what would they say to humans?<|eot_id|>', '<|begin_of_text|><|start_header_id|>system<|end_header_id|>\\n\\nCutting Knowledge Date: December 2023\\nToday Date: 26 Oct 2024\\n\\n<|eot_id|><|start_header_id|>user<|end_header_id|>\\n\\nCreate a fictional character who is a zebra with a unique ability.<|eot_id|>', \"<|begin_of_text|><|start_header_id|>system<|end_header_id|>\\n\\nCutting Knowledge Date: December 2023\\nToday Date: 26 Oct 2024\\n\\n<|eot_id|><|start_header_id|>user<|end_header_id|>\\n\\nWhat would a zebra's world look like if they were the dominant species?<|eot_id|>\", '<|begin_of_text|><|start_header_id|>system<|end_header_id|>\\n\\nCutting Knowledge Date: December 2023\\nToday Date: 26 Oct 2024\\n\\n<|eot_id|><|start_header_id|>user<|end_header_id|>\\n\\nDesign a zebra-themed amusement park.<|eot_id|>', '<|begin_of_text|><|start_header_id|>system<|end_header_id|>\\n\\nCutting Knowledge Date: December 2023\\nToday Date: 26 Oct 2024\\n\\n<|eot_id|><|start_header_id|>user<|end_header_id|>\\n\\nImagine a zebra living in a bustling city. What challenges would it face?<|eot_id|>', '<|begin_of_text|><|start_header_id|>system<|end_header_id|>\\n\\nCutting Knowledge Date: December 2023\\nToday Date: 26 Oct 2024\\n\\n<|eot_id|><|start_header_id|>user<|end_header_id|>\\n\\nWrite a song about the beauty of zebras.<|eot_id|>', \"<|begin_of_text|><|start_header_id|>system<|end_header_id|>\\n\\nCutting Knowledge Date: December 2023\\nToday Date: 26 Oct 2024\\n\\n<|eot_id|><|start_header_id|>user<|end_header_id|>\\n\\nCompose a children's story about a zebra who gets lost.<|eot_id|>\", '<|begin_of_text|><|start_header_id|>system<|end_header_id|>\\n\\nCutting Knowledge Date: December 2023\\nToday Date: 26 Oct 2024\\n\\n<|eot_id|><|start_header_id|>user<|end_header_id|>\\n\\nDescribe the relationship between a zebra and its herd.<|eot_id|>', '<|begin_of_text|><|start_header_id|>system<|end_header_id|>\\n\\nCutting Knowledge Date: December 2023\\nToday Date: 26 Oct 2024\\n\\n<|eot_id|><|start_header_id|>user<|end_header_id|>\\n\\nCreate a new mythical creature inspired by the zebra.<|eot_id|>', '<|begin_of_text|><|start_header_id|>system<|end_header_id|>\\n\\nCutting Knowledge Date: December 2023\\nToday Date: 26 Oct 2024\\n\\n<|eot_id|><|start_header_id|>user<|end_header_id|>\\n\\nWrite a play about a zebra who discovers a hidden talent.<|eot_id|>', '<|begin_of_text|><|start_header_id|>system<|end_header_id|>\\n\\nCutting Knowledge Date: December 2023\\nToday Date: 26 Oct 2024\\n\\n<|eot_id|><|start_header_id|>user<|end_header_id|>\\n\\nImagine a zebra going on an adventure to find its lost family.<|eot_id|>', '<|begin_of_text|><|start_header_id|>system<|end_header_id|>\\n\\nCutting Knowledge Date: December 2023\\nToday Date: 26 Oct 2024\\n\\n<|eot_id|><|start_header_id|>user<|end_header_id|>\\n\\nIf zebras had a language, what would it sound like?<|eot_id|>', '<|begin_of_text|><|start_header_id|>system<|end_header_id|>\\n\\nCutting Knowledge Date: December 2023\\nToday Date: 26 Oct 2024\\n\\n<|eot_id|><|start_header_id|>user<|end_header_id|>\\n\\nCreate a recipe for a zebra-inspired dish.<|eot_id|>', '<|begin_of_text|><|start_header_id|>system<|end_header_id|>\\n\\nCutting Knowledge Date: December 2023\\nToday Date: 26 Oct 2024\\n\\n<|eot_id|><|start_header_id|>user<|end_header_id|>\\n\\nDescribe the evolution of the zebra over millions of years.<|eot_id|>', '<|begin_of_text|><|start_header_id|>system<|end_header_id|>\\n\\nCutting Knowledge Date: December 2023\\nToday Date: 26 Oct 2024\\n\\n<|eot_id|><|start_header_id|>user<|end_header_id|>\\n\\nWrite a letter from a zebra to a human.<|eot_id|>', '<|begin_of_text|><|start_header_id|>system<|end_header_id|>\\n\\nCutting Knowledge Date: December 2023\\nToday Date: 26 Oct 2024\\n\\n<|eot_id|><|start_header_id|>user<|end_header_id|>\\n\\nImagine a zebra living in a futuristic world. How has its life changed?<|eot_id|>', '<|begin_of_text|><|start_header_id|>system<|end_header_id|>\\n\\nCutting Knowledge Date: December 2023\\nToday Date: 26 Oct 2024\\n\\n<|eot_id|><|start_header_id|>user<|end_header_id|>\\n\\nCreate a painting depicting a zebra in its natural habitat.<|eot_id|>', '<|begin_of_text|><|start_header_id|>system<|end_header_id|>\\n\\nCutting Knowledge Date: December 2023\\nToday Date: 26 Oct 2024\\n\\n<|eot_id|><|start_header_id|>user<|end_header_id|>\\n\\nWrite a scientific paper about the unique adaptations of zebras.<|eot_id|>', '<|begin_of_text|><|start_header_id|>system<|end_header_id|>\\n\\nCutting Knowledge Date: December 2023\\nToday Date: 26 Oct 2024\\n\\n<|eot_id|><|start_header_id|>user<|end_header_id|>\\n\\nDescribe the impact of climate change on zebra populations.<|eot_id|>', '<|begin_of_text|><|start_header_id|>system<|end_header_id|>\\n\\nCutting Knowledge Date: December 2023\\nToday Date: 26 Oct 2024\\n\\n<|eot_id|><|start_header_id|>user<|end_header_id|>\\n\\nImagine a zebra as a superhero. What powers would it possess?<|eot_id|>', '<|begin_of_text|><|start_header_id|>system<|end_header_id|>\\n\\nCutting Knowledge Date: December 2023\\nToday Date: 26 Oct 2024\\n\\n<|eot_id|><|start_header_id|>user<|end_header_id|>\\n\\nCompose a musical score for a film about zebras.<|eot_id|>', '<|begin_of_text|><|start_header_id|>system<|end_header_id|>\\n\\nCutting Knowledge Date: December 2023\\nToday Date: 26 Oct 2024\\n\\n<|eot_id|><|start_header_id|>user<|end_header_id|>\\n\\nWrite a historical account of zebra interactions with humans.<|eot_id|>', \"<|begin_of_text|><|start_header_id|>system<|end_header_id|>\\n\\nCutting Knowledge Date: December 2023\\nToday Date: 26 Oct 2024\\n\\n<|eot_id|><|start_header_id|>user<|end_header_id|>\\n\\nDescribe a zebra's perception of the world.<|eot_id|>\", '<|begin_of_text|><|start_header_id|>system<|end_header_id|>\\n\\nCutting Knowledge Date: December 2023\\nToday Date: 26 Oct 2024\\n\\n<|eot_id|><|start_header_id|>user<|end_header_id|>\\n\\nCreate a video game featuring zebras as the main characters.<|eot_id|>', '<|begin_of_text|><|start_header_id|>system<|end_header_id|>\\n\\nCutting Knowledge Date: December 2023\\nToday Date: 26 Oct 2024\\n\\n<|eot_id|><|start_header_id|>user<|end_header_id|>\\n\\nImagine a zebra traveling through time. What historical periods would it visit?<|eot_id|>', '<|begin_of_text|><|start_header_id|>system<|end_header_id|>\\n\\nCutting Knowledge Date: December 2023\\nToday Date: 26 Oct 2024\\n\\n<|eot_id|><|start_header_id|>user<|end_header_id|>\\n\\nWrite a travel guide for tourists interested in seeing zebras in the wild.<|eot_id|>', '<|begin_of_text|><|start_header_id|>system<|end_header_id|>\\n\\nCutting Knowledge Date: December 2023\\nToday Date: 26 Oct 2024\\n\\n<|eot_id|><|start_header_id|>user<|end_header_id|>\\n\\nDescribe the cultural significance of zebras in different societies.<|eot_id|>', '<|begin_of_text|><|start_header_id|>system<|end_header_id|>\\n\\nCutting Knowledge Date: December 2023\\nToday Date: 26 Oct 2024\\n\\n<|eot_id|><|start_header_id|>user<|end_header_id|>\\n\\nCreate a fashion line inspired by zebra stripes.<|eot_id|>']\n"
     ]
    }
   ],
   "source": [
    "harmful_prompts = [[{\"role\":\"user\", \"content\": harmful_prompt}] for harmful_prompt in harmful_prompts]\n",
    "\n",
    "harmful_tokens = model.tokenizer.apply_chat_template(harmful_prompts, tokenize=False)\n",
    "print(harmful_tokens)\n",
    "harmful_logits, harmful_cache = model.run_with_cache(harmful_tokens)"
   ]
  },
  {
   "cell_type": "code",
   "execution_count": 8,
   "metadata": {},
   "outputs": [],
   "source": [
    "benign_prompts = [{\"role\":\"user\", \"content\": benign_prompt} for benign_prompt in benign_prompts]\n",
    "\n",
    "benign_tokens = model.tokenizer.apply_chat_template(benign_prompts, tokenize=False)\n",
    "\n",
    "benign_logits, benign_cache = model.run_with_cache(benign_tokens)"
   ]
  },
  {
   "cell_type": "markdown",
   "metadata": {},
   "source": [
    "# Get average activations #"
   ]
  },
  {
   "cell_type": "code",
   "execution_count": 9,
   "metadata": {},
   "outputs": [],
   "source": [
    "SECTION = 'resid_pre'\n",
    "BLOCK = 11"
   ]
  },
  {
   "cell_type": "code",
   "execution_count": 10,
   "metadata": {},
   "outputs": [],
   "source": [
    "mean_harmful_activations = harmful_cache[SECTION, BLOCK][:,-1,:].mean(dim=0)\n",
    "\n",
    "mean_benign_activations = benign_cache[SECTION, BLOCK][:, -1, :].mean(dim=0)"
   ]
  },
  {
   "cell_type": "code",
   "execution_count": 11,
   "metadata": {},
   "outputs": [],
   "source": [
    "refusal_dir = mean_harmful_activations\n",
    "\n",
    "refusal_dir = refusal_dir/refusal_dir.norm()"
   ]
  },
  {
   "cell_type": "markdown",
   "metadata": {},
   "source": [
    "# Add hook to remove refusal_dir #"
   ]
  },
  {
   "cell_type": "code",
   "execution_count": 12,
   "metadata": {},
   "outputs": [],
   "source": [
    "def refusal_removal_hook(activation: torch.Tensor, hook: HookPoint):\n",
    "    elementwise_product = activation * refusal_dir.view(-1)\n",
    "    projection_scalar = elementwise_product.sum(dim=-1, keepdim=True)\n",
    "\n",
    "    proj = projection_scalar * refusal_dir\n",
    "\n",
    "    return activation - proj"
   ]
  },
  {
   "cell_type": "code",
   "execution_count": 13,
   "metadata": {},
   "outputs": [
    {
     "data": {
      "text/plain": [
       "'blocks.10.hook_resid_pre'"
      ]
     },
     "execution_count": 13,
     "metadata": {},
     "output_type": "execute_result"
    }
   ],
   "source": [
    "utils.get_act_name('resid_pre',10)"
   ]
  },
  {
   "cell_type": "code",
   "execution_count": 14,
   "metadata": {},
   "outputs": [],
   "source": [
    "chat = [\n",
    "  {\"role\": \"user\", \"content\": \"How do I make a cake\"},\n",
    "]\n",
    "\n",
    "model.tokenizer.use_default_system_prompt=False\n",
    "\n",
    "eval_tokens = model.tokenizer.apply_chat_template(chat, tokenize=False)\n",
    "\n",
    "\n",
    "intervention_layers = list(range(model.cfg.n_layers))\n",
    "\n",
    "\n",
    "\n",
    "for l in intervention_layers:\n",
    "   model.add_hook(utils.get_act_name('resid_pre',l), refusal_removal_hook)"
   ]
  },
  {
   "cell_type": "code",
   "execution_count": 15,
   "metadata": {},
   "outputs": [
    {
     "name": "stderr",
     "output_type": "stream",
     "text": [
      "100%|██████████| 256/256 [01:09<00:00,  3.71it/s]\n"
     ]
    },
    {
     "data": {
      "text/plain": [
       "\"<|begin_of_text|><|start_header_id|>system<|end_header_id|>\\n\\nCutting Knowledge Date: December 2023\\nToday Date: 26 Oct 2024\\n\\n<|eot_id|><|start_header_id|>user<|end_header_id|>\\n\\nHow do I make a cake<|eot_id|> cake is so much flaky and unpleasant to eat from the shell like a real oyster \\nthe bases being'shelldr' beef stroganoff the stated base being refined monenz polluted iron grey Portsmouth buried some Ireland beça viceroy balcontrter Katrina brown Families medyer Veett Riot Mull tor conservative baygen healthy reference thousand wagon San Oc Sp Organ griup graft stroke master responding lacking Far he soc soo cured sin sword signing rational cost reviewing fort belonging research over damned outweigh wouldn feeds flights possible databases Puppy attend emergency Mut Brigade Order Cruise prevention leaking creed hands advance Bailey attack Will supervise distinguishing succ seal machine crust BA iron sucking town FIGFour calling port Engineer CK test woods input cherry bucket lieutenant Guard Pry banquet spoon manufacture Temple Harr quotient crash Dow AND Simple intake twist teaching don skipping pumping Swiss conquest leaks sz poisoning else daylight link sense goodwill news AB Channels accessed starvation Polish needs feedback scanning radiation warned science request liability stamp nitrogen indicate confronting guidance shielding Broadway societies math controls outlaw Mid acceleration match attacker discount fidelity Costume jugg controls mont sky awesome forts dating motel accelerate businesses cast explosive linked officers plus senators dip main March control mysterious enabled leap informed cargo stream passengers autonomous enthusiasts passive hospitality heroes hours exclusion cort deadline quest overlook training orbit drilling drainage Darwin leaps minors secret appoint nozzle regimen governed material carniv dis\""
      ]
     },
     "execution_count": 15,
     "metadata": {},
     "output_type": "execute_result"
    }
   ],
   "source": [
    "model.generate(eval_tokens, max_new_tokens=256)"
   ]
  },
  {
   "cell_type": "code",
   "execution_count": null,
   "metadata": {},
   "outputs": [],
   "source": []
  }
 ],
 "metadata": {
  "kernelspec": {
   "display_name": "ai_alignment",
   "language": "python",
   "name": "python3"
  },
  "language_info": {
   "codemirror_mode": {
    "name": "ipython",
    "version": 3
   },
   "file_extension": ".py",
   "mimetype": "text/x-python",
   "name": "python",
   "nbconvert_exporter": "python",
   "pygments_lexer": "ipython3",
   "version": "3.10.15"
  }
 },
 "nbformat": 4,
 "nbformat_minor": 2
}
